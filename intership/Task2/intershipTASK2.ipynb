{
  "nbformat": 4,
  "nbformat_minor": 0,
  "metadata": {
    "colab": {
      "provenance": []
    },
    "kernelspec": {
      "name": "python3",
      "display_name": "Python 3"
    },
    "language_info": {
      "name": "python"
    }
  },
  "cells": [
    {
      "cell_type": "code",
      "execution_count": 2,
      "metadata": {
        "id": "VOzOIbUK9Wat",
        "colab": {
          "base_uri": "https://localhost:8080/"
        },
        "outputId": "58bb4f59-4a9e-4d37-8fb8-978939136f09"
      },
      "outputs": [
        {
          "output_type": "stream",
          "name": "stdout",
          "text": [
            "✅ Cleaned dataset saved as 'cleaned_product_advertising.csv'\n"
          ]
        },
        {
          "output_type": "stream",
          "name": "stderr",
          "text": [
            "/tmp/ipython-input-2-1931524941.py:17: FutureWarning: DataFrame.applymap has been deprecated. Use DataFrame.map instead.\n",
            "  df = df.applymap(lambda x: x.strip() if isinstance(x, str) else x)\n"
          ]
        }
      ],
      "source": [
        "import pandas as pd\n",
        "\n",
        "# Load the raw CSV\n",
        "df = pd.read_csv(\"/content/Advertising_Data.csv\")\n",
        "\n",
        "# 🚫 Remove unnamed or empty columns\n",
        "df = df.loc[:, ~df.columns.str.contains(\"^Unnamed\")]\n",
        "df.dropna(axis=1, how=\"all\", inplace=True)\n",
        "\n",
        "# 🚫 Remove empty rows\n",
        "df.dropna(how=\"all\", inplace=True)\n",
        "\n",
        "# 🧹 Clean column names\n",
        "df.columns = df.columns.str.strip().str.lower().str.replace(\" \", \"_\").str.replace(r\"[^\\w_]\", \"\", regex=True)\n",
        "\n",
        "# 🧼 Clean string values (strip whitespace)\n",
        "df = df.applymap(lambda x: x.strip() if isinstance(x, str) else x)\n",
        "\n",
        "# 📅 Convert date columns (if any)\n",
        "date_cols = [col for col in df.columns if \"date\" in col]\n",
        "for col in date_cols:\n",
        "    df[col] = pd.to_datetime(df[col], errors='coerce')\n",
        "\n",
        "# 💲 Convert price/revenue fields to float\n",
        "money_cols = [col for col in df.columns if \"price\" in col or \"revenue\" in col]\n",
        "for col in money_cols:\n",
        "    df[col] = df[col].replace('[\\$,]', '', regex=True).astype(float)\n",
        "\n",
        "# 💾 Save cleaned data\n",
        "df.to_csv(\"cleaned_product_advertising.csv\", index=False)\n",
        "print(\"✅ Cleaned dataset saved as 'cleaned_product_advertising.csv'\")\n"
      ]
    }
  ]
}